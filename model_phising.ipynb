{
  "nbformat": 4,
  "nbformat_minor": 0,
  "metadata": {
    "colab": {
      "provenance": []
    },
    "kernelspec": {
      "name": "python3",
      "display_name": "Python 3"
    },
    "language_info": {
      "name": "python"
    }
  },
  "cells": [
    {
      "cell_type": "markdown",
      "source": [
        "# import library"
      ],
      "metadata": {
        "id": "3hlOIRNiKC4f"
      }
    },
    {
      "cell_type": "code",
      "source": [
        "!pip install keras-tuner --upgrade"
      ],
      "metadata": {
        "colab": {
          "base_uri": "https://localhost:8080/"
        },
        "id": "zRbt6svyKk6q",
        "outputId": "4058a598-d1e0-4470-c9a4-14b916a41d72"
      },
      "execution_count": 1,
      "outputs": [
        {
          "output_type": "stream",
          "name": "stdout",
          "text": [
            "Collecting keras-tuner\n",
            "  Downloading keras_tuner-1.4.6-py3-none-any.whl (128 kB)\n",
            "\u001b[?25l     \u001b[90m━━━━━━━━━━━━━━━━━━━━━━━━━━━━━━━━━━━━━━━━\u001b[0m \u001b[32m0.0/128.9 kB\u001b[0m \u001b[31m?\u001b[0m eta \u001b[36m-:--:--\u001b[0m\r\u001b[2K     \u001b[91m━━━━━━━━━━━━━━━━━━━━━━━━━━━━━━━━━━\u001b[0m\u001b[91m╸\u001b[0m\u001b[90m━━━━━\u001b[0m \u001b[32m112.6/128.9 kB\u001b[0m \u001b[31m3.1 MB/s\u001b[0m eta \u001b[36m0:00:01\u001b[0m\r\u001b[2K     \u001b[90m━━━━━━━━━━━━━━━━━━━━━━━━━━━━━━━━━━━━━━━━\u001b[0m \u001b[32m128.9/128.9 kB\u001b[0m \u001b[31m2.8 MB/s\u001b[0m eta \u001b[36m0:00:00\u001b[0m\n",
            "\u001b[?25hRequirement already satisfied: keras in /usr/local/lib/python3.10/dist-packages (from keras-tuner) (2.15.0)\n",
            "Requirement already satisfied: packaging in /usr/local/lib/python3.10/dist-packages (from keras-tuner) (23.2)\n",
            "Requirement already satisfied: requests in /usr/local/lib/python3.10/dist-packages (from keras-tuner) (2.31.0)\n",
            "Collecting kt-legacy (from keras-tuner)\n",
            "  Downloading kt_legacy-1.0.5-py3-none-any.whl (9.6 kB)\n",
            "Requirement already satisfied: charset-normalizer<4,>=2 in /usr/local/lib/python3.10/dist-packages (from requests->keras-tuner) (3.3.2)\n",
            "Requirement already satisfied: idna<4,>=2.5 in /usr/local/lib/python3.10/dist-packages (from requests->keras-tuner) (3.6)\n",
            "Requirement already satisfied: urllib3<3,>=1.21.1 in /usr/local/lib/python3.10/dist-packages (from requests->keras-tuner) (2.0.7)\n",
            "Requirement already satisfied: certifi>=2017.4.17 in /usr/local/lib/python3.10/dist-packages (from requests->keras-tuner) (2024.2.2)\n",
            "Installing collected packages: kt-legacy, keras-tuner\n",
            "Successfully installed keras-tuner-1.4.6 kt-legacy-1.0.5\n"
          ]
        }
      ]
    },
    {
      "cell_type": "code",
      "execution_count": 2,
      "metadata": {
        "colab": {
          "base_uri": "https://localhost:8080/"
        },
        "id": "uUAKgLCnIohq",
        "outputId": "c142de29-9edb-4b54-b19b-c6878dc60536"
      },
      "outputs": [
        {
          "output_type": "stream",
          "name": "stderr",
          "text": [
            "<ipython-input-2-cc0a619c1a66>:40: DeprecationWarning: `import kerastuner` is deprecated, please use `import keras_tuner`.\n",
            "  from kerastuner import HyperModel\n"
          ]
        }
      ],
      "source": [
        "# Standard library imports\n",
        "import os\n",
        "import sys\n",
        "from collections import Counter\n",
        "from tempfile import NamedTemporaryFile\n",
        "from urllib.parse import urlparse, unquote\n",
        "from urllib.request import urlopen\n",
        "from urllib.error import HTTPError\n",
        "from zipfile import ZipFile\n",
        "import tarfile\n",
        "import shutil\n",
        "\n",
        "# Third-party imports for data manipulation and analysis\n",
        "import numpy as np\n",
        "import pandas as pd\n",
        "import re\n",
        "from sklearn.model_selection import train_test_split\n",
        "from sklearn.feature_extraction.text import TfidfVectorizer\n",
        "from sklearn.preprocessing import LabelEncoder\n",
        "from sklearn.metrics import f1_score, accuracy_score, precision_score, recall_score, confusion_matrix\n",
        "\n",
        "# Third-party imports for natural language processing\n",
        "import nltk\n",
        "from nltk.util import ngrams\n",
        "from nltk.tokenize import word_tokenize\n",
        "from nltk.corpus import stopwords\n",
        "from nltk.stem import WordNetLemmatizer\n",
        "from tensorflow.keras.layers import TextVectorization\n",
        "\n",
        "# Third-party imports for deep learning\n",
        "import tensorflow as tf\n",
        "from tensorflow import keras\n",
        "from tensorflow.keras import layers, models, optimizers, callbacks, metrics\n",
        "from tensorflow.keras.callbacks import EarlyStopping\n",
        "from tensorflow.keras.metrics import Precision, Recall\n",
        "from tensorflow.keras.preprocessing.text import Tokenizer\n",
        "from tensorflow.keras.preprocessing.sequence import pad_sequences\n",
        "from tensorflow.keras.utils import to_categorical\n",
        "import keras_tuner\n",
        "from kerastuner import HyperModel\n",
        "from kerastuner.tuners import Hyperband\n",
        "from tensorflow.keras.metrics import Precision, Recall\n",
        "\n",
        "# Third-party imports for data visualization\n",
        "import matplotlib.pyplot as plt\n",
        "import seaborn as sns\n",
        "from prettytable import PrettyTable"
      ]
    },
    {
      "cell_type": "markdown",
      "source": [
        "# load data"
      ],
      "metadata": {
        "id": "1qAuCnbrKrdQ"
      }
    },
    {
      "cell_type": "code",
      "source": [
        "# Load URL dataset\n",
        "url_df = pd.read_excel('/content/drive/MyDrive/Bootcamp NLP Batch 3 Indonesia AI/Final Project/look-before-you-leap/URL.xlsx')\n",
        "\n",
        "# Load HTML dataset\n",
        "html_df = pd.read_excel('/content/drive/MyDrive/Bootcamp NLP Batch 3 Indonesia AI/Final Project/look-before-you-leap/html.xlsx')\n",
        "\n",
        "# menampilkan dataset\n",
        "print(\"URL Dataset:\")\n",
        "print(url_df.head())\n",
        "print(\"\\nHTML Dataset:\")\n",
        "print(html_df.head())"
      ],
      "metadata": {
        "colab": {
          "base_uri": "https://localhost:8080/"
        },
        "id": "qTj6EO6DO_6Z",
        "outputId": "e51e5030-71eb-4e08-93fd-abd64b771d83"
      },
      "execution_count": 3,
      "outputs": [
        {
          "output_type": "stream",
          "name": "stdout",
          "text": [
            "URL Dataset:\n",
            "  Category                                               Data\n",
            "0     spam  logtelstra2021.ddnsking.com/0dfa1b53b835500696...\n",
            "1     spam  dvsber.ru/modules/mod_ariimageslidersa/KRENK3N...\n",
            "2     spam  kimsinc564.000webhostapp.com/notification.php?...\n",
            "3     spam                                     benjim.com/all\n",
            "4     spam                    www.m.micesrunescape.com-we.ru/\n",
            "\n",
            "HTML Dataset:\n",
            "  Category                                               Data\n",
            "0     spam  <!DOCTYPE html>', '', '<html>', '<head>', '<me...\n",
            "1     spam  <!DOCTYPE html><html dir=\"ltr\" lang=\"en\"><head...\n",
            "2     spam  <!DOCTYPE html PUBLIC \"-//W3C//DTD XHTML 1.0 T...\n",
            "3     spam  <meta content=\"1; URL=\\'https://segurancaitauo...\n",
            "4     spam  <!DOCTYPE HTML PUBLIC \"-//W3C//DTD HTML 4.01//...\n"
          ]
        }
      ]
    },
    {
      "cell_type": "markdown",
      "source": [
        "#EDA\n",
        "\n",
        "##info dasar data"
      ],
      "metadata": {
        "id": "Ihk-XQGRP3OT"
      }
    },
    {
      "cell_type": "code",
      "source": [
        "url_df.info()"
      ],
      "metadata": {
        "colab": {
          "base_uri": "https://localhost:8080/"
        },
        "id": "YmjCUdYJP5H6",
        "outputId": "61fe7a2b-e298-4169-84ec-e87e6d685c02"
      },
      "execution_count": 4,
      "outputs": [
        {
          "output_type": "stream",
          "name": "stdout",
          "text": [
            "<class 'pandas.core.frame.DataFrame'>\n",
            "RangeIndex: 45373 entries, 0 to 45372\n",
            "Data columns (total 2 columns):\n",
            " #   Column    Non-Null Count  Dtype \n",
            "---  ------    --------------  ----- \n",
            " 0   Category  45373 non-null  object\n",
            " 1   Data      45373 non-null  object\n",
            "dtypes: object(2)\n",
            "memory usage: 709.1+ KB\n"
          ]
        }
      ]
    },
    {
      "cell_type": "code",
      "source": [
        "html_df.info()"
      ],
      "metadata": {
        "colab": {
          "base_uri": "https://localhost:8080/"
        },
        "id": "MyQm-IWxQS5p",
        "outputId": "184a9277-f9f3-4563-87b2-77442b9c305f"
      },
      "execution_count": 5,
      "outputs": [
        {
          "output_type": "stream",
          "name": "stdout",
          "text": [
            "<class 'pandas.core.frame.DataFrame'>\n",
            "RangeIndex: 45373 entries, 0 to 45372\n",
            "Data columns (total 2 columns):\n",
            " #   Column    Non-Null Count  Dtype \n",
            "---  ------    --------------  ----- \n",
            " 0   Category  45373 non-null  object\n",
            " 1   Data      45373 non-null  object\n",
            "dtypes: object(2)\n",
            "memory usage: 709.1+ KB\n"
          ]
        }
      ]
    },
    {
      "cell_type": "code",
      "source": [
        "print(f'Banyak baris dataset url {url_df.shape[0]} dan kolom {url_df.shape[1]}')\n",
        "print(f'Banyak baris dataset html {html_df.shape[0]} dan kolom {html_df.shape[1]}')"
      ],
      "metadata": {
        "colab": {
          "base_uri": "https://localhost:8080/"
        },
        "id": "F2c_HdfAQb1p",
        "outputId": "0b20f564-b0f3-4d9e-eca5-bdc42e938fa0"
      },
      "execution_count": 6,
      "outputs": [
        {
          "output_type": "stream",
          "name": "stdout",
          "text": [
            "Banyak baris dataset url 45373 dan kolom 2\n",
            "Banyak baris dataset html 45373 dan kolom 2\n"
          ]
        }
      ]
    },
    {
      "cell_type": "markdown",
      "source": [
        "# missing value cek"
      ],
      "metadata": {
        "id": "IKz9gkFxQef9"
      }
    },
    {
      "cell_type": "code",
      "source": [
        "print(\"\\nMissing Values URL Dataset:\")\n",
        "print(url_df.isnull().sum())\n",
        "print(\"\\nMissing Values HTML Dataset:\")\n",
        "print(html_df.isnull().sum())"
      ],
      "metadata": {
        "colab": {
          "base_uri": "https://localhost:8080/"
        },
        "id": "zQ-xWrdbQeLc",
        "outputId": "8344eb84-aa32-429c-e42b-18bf9cd3838a"
      },
      "execution_count": 7,
      "outputs": [
        {
          "output_type": "stream",
          "name": "stdout",
          "text": [
            "\n",
            "Missing Values URL Dataset:\n",
            "Category    0\n",
            "Data        0\n",
            "dtype: int64\n",
            "\n",
            "Missing Values HTML Dataset:\n",
            "Category    0\n",
            "Data        0\n",
            "dtype: int64\n"
          ]
        }
      ]
    },
    {
      "cell_type": "markdown",
      "source": [
        "# sebaran nilai kategori"
      ],
      "metadata": {
        "id": "TE5RCMh1QjYZ"
      }
    },
    {
      "cell_type": "code",
      "source": [
        "# Value Counts\n",
        "print(\"\\nSebaran kategori di URL Dataset:\")\n",
        "print(url_df['Category'].value_counts())\n",
        "print(\"\\nSebaran kategori di HTML Dataset:\")\n",
        "print(html_df['Category'].value_counts())"
      ],
      "metadata": {
        "colab": {
          "base_uri": "https://localhost:8080/"
        },
        "id": "ZpVeLns-Qj4Z",
        "outputId": "09600ef7-4496-46f9-f3c4-f385346f0a57"
      },
      "execution_count": 8,
      "outputs": [
        {
          "output_type": "stream",
          "name": "stdout",
          "text": [
            "\n",
            "Sebaran kategori di URL Dataset:\n",
            "ham     22687\n",
            "spam    22686\n",
            "Name: Category, dtype: int64\n",
            "\n",
            "Sebaran kategori di HTML Dataset:\n",
            "ham     22687\n",
            "spam    22686\n",
            "Name: Category, dtype: int64\n"
          ]
        }
      ]
    },
    {
      "cell_type": "markdown",
      "source": [
        "# visualisasi sebaran nilai kategori"
      ],
      "metadata": {
        "id": "QK8x09HbQn81"
      }
    },
    {
      "cell_type": "code",
      "source": [
        "# Set up the figure and axes for subplots\n",
        "fig, axes = plt.subplots(nrows=1, ncols=2, figsize=(16, 6))\n",
        "\n",
        "# Customized color palette\n",
        "color_palette = ['red', 'blue']\n",
        "\n",
        "# Plot for HTML dataset\n",
        "sns.countplot(x='Category', data=html_df, palette=color_palette, ax=axes[0])\n",
        "axes[0].set_title('Distribution of Categories in HTML Dataset', fontweight='bold')\n",
        "\n",
        "# Add exact values on top of the bars\n",
        "for p in axes[0].patches:\n",
        "    axes[0].annotate(format(p.get_height(), '.0f'),\n",
        "                (p.get_x() + p.get_width() / 2., p.get_height()),\n",
        "                ha = 'center',\n",
        "                va = 'center',\n",
        "                xytext = (0, 10),\n",
        "                textcoords = 'offset points')\n",
        "\n",
        "axes[0].set_ylim(0, max([p.get_height() for p in axes[0].patches])*1.1)\n",
        "\n",
        "# Plot for URL dataset\n",
        "sns.countplot(x='Category', data=url_df, palette=color_palette, ax=axes[1])\n",
        "axes[1].set_title('Distribution of Categories in URL Dataset', fontweight='bold')\n",
        "\n",
        "# Add exact values on top of the bars\n",
        "for p in axes[1].patches:\n",
        "    axes[1].annotate(format(p.get_height(), '.0f'),\n",
        "                (p.get_x() + p.get_width() / 2., p.get_height()),\n",
        "                ha = 'center',\n",
        "                va = 'center',\n",
        "                xytext = (0, 10),\n",
        "                textcoords = 'offset points')\n",
        "\n",
        "axes[1].set_ylim(0, max([p.get_height() for p in axes[1].patches])*1.1)\n",
        "\n",
        "# Adjust layout to prevent overlap\n",
        "plt.tight_layout()\n",
        "\n",
        "# Show the plot\n",
        "plt.show()"
      ],
      "metadata": {
        "colab": {
          "base_uri": "https://localhost:8080/",
          "height": 532
        },
        "id": "lincg2XhQokC",
        "outputId": "05793504-e4ed-4561-d74e-c14549033613"
      },
      "execution_count": 9,
      "outputs": [
        {
          "output_type": "stream",
          "name": "stderr",
          "text": [
            "<ipython-input-9-e131a6af5b1f>:8: FutureWarning: \n",
            "\n",
            "Passing `palette` without assigning `hue` is deprecated and will be removed in v0.14.0. Assign the `x` variable to `hue` and set `legend=False` for the same effect.\n",
            "\n",
            "  sns.countplot(x='Category', data=html_df, palette=color_palette, ax=axes[0])\n",
            "<ipython-input-9-e131a6af5b1f>:23: FutureWarning: \n",
            "\n",
            "Passing `palette` without assigning `hue` is deprecated and will be removed in v0.14.0. Assign the `x` variable to `hue` and set `legend=False` for the same effect.\n",
            "\n",
            "  sns.countplot(x='Category', data=url_df, palette=color_palette, ax=axes[1])\n"
          ]
        },
        {
          "output_type": "display_data",
          "data": {
            "text/plain": [
              "<Figure size 1600x600 with 2 Axes>"
            ],
            "image/png": "[encoded data removed]"
          },
          "metadata": {}
        }
      ]
    },
    {
      "cell_type": "markdown",
      "source": [
        "Dataset ini termasuk ke dalam data yang balance, karena ini terlihat dari perbedaan antara kategori **phising (spam)** dan kategori **non-phishing (ham)** hanya terdapat pada **satu data saja**."
      ],
      "metadata": {
        "id": "BdkpMBiTQufE"
      }
    },
    {
      "cell_type": "markdown",
      "source": [
        "# visualisasi panjang fitur"
      ],
      "metadata": {
        "id": "RSWe2c_bQ769"
      }
    },
    {
      "cell_type": "code",
      "source": [
        "# URL Length Analysis\n",
        "url_df['url_length'] = url_df['Data'].apply(len)\n",
        "\n",
        "# HTML Content Length Analysis\n",
        "html_df['content_length'] = html_df['Data'].apply(len)\n",
        "\n",
        "plt.figure(figsize=(16, 6))\n",
        "\n",
        "# URL Length Analysis\n",
        "plt.subplot(1, 2, 1)\n",
        "sns.boxplot(x='Category', y='url_length', data=url_df)\n",
        "plt.title('URL Length by Category', fontweight=\"bold\")\n",
        "\n",
        "# HTML Content Length Analysis\n",
        "plt.subplot(1, 2, 2)\n",
        "sns.boxplot(x='Category', y='content_length', data=html_df)\n",
        "plt.title('HTML Content Length by Category', fontweight=\"bold\")\n",
        "\n",
        "# Adjust layout to prevent overlap\n",
        "plt.tight_layout()\n",
        "\n",
        "# Show the plot\n",
        "plt.show()"
      ],
      "metadata": {
        "colab": {
          "base_uri": "https://localhost:8080/",
          "height": 342
        },
        "id": "hu1XXQH2Q6Jq",
        "outputId": "5c200085-594e-4d87-ac36-3e8623c7f313"
      },
      "execution_count": 10,
      "outputs": [
        {
          "output_type": "display_data",
          "data": {
            "text/plain": [
              "<Figure size 1600x600 with 2 Axes>"
            ],
            "image/png": "[encoded data removed]"
          },
          "metadata": {}
        }
      ]
    },
    {
      "cell_type": "markdown",
      "source": [
        "Berdasarkan pola yang diamati pada dataset, kategori **phishing (spam) **cenderung memiliki karakter yang panjang, sementara kategori **non-phishing (ham)** cenderung memiliki karakter yang pendek."
      ],
      "metadata": {
        "id": "9W0wnHokRD3m"
      }
    },
    {
      "cell_type": "markdown",
      "source": [
        "# text preprocessing\n",
        "## inisialisasi kebutuhan"
      ],
      "metadata": {
        "id": "rcbh4geJRIRC"
      }
    },
    {
      "cell_type": "code",
      "source": [
        "# Ensure necessary NLTK resources are downloaded\n",
        "nltk.download('punkt')\n",
        "nltk.download('stopwords')\n",
        "nltk.download('wordnet')"
      ],
      "metadata": {
        "colab": {
          "base_uri": "https://localhost:8080/"
        },
        "id": "oIloSDX2RKhD",
        "outputId": "991d87a8-bb7a-4ca8-fde0-aba0687b9669"
      },
      "execution_count": 11,
      "outputs": [
        {
          "output_type": "stream",
          "name": "stderr",
          "text": [
            "[nltk_data] Downloading package punkt to /root/nltk_data...\n",
            "[nltk_data]   Unzipping tokenizers/punkt.zip.\n",
            "[nltk_data] Downloading package stopwords to /root/nltk_data...\n",
            "[nltk_data]   Unzipping corpora/stopwords.zip.\n",
            "[nltk_data] Downloading package wordnet to /root/nltk_data...\n"
          ]
        },
        {
          "output_type": "execute_result",
          "data": {
            "text/plain": [
              "True"
            ]
          },
          "metadata": {},
          "execution_count": 11
        }
      ]
    },
    {
      "cell_type": "code",
      "source": [
        "# Load stopwords once to improve efficiency\n",
        "STOPWORDS = set(stopwords.words('english'))"
      ],
      "metadata": {
        "id": "PcRYqhVUROMQ"
      },
      "execution_count": 12,
      "outputs": []
    },
    {
      "cell_type": "code",
      "source": [
        "# Initialize WordNetLemmatizer\n",
        "lemmatizer = WordNetLemmatizer()"
      ],
      "metadata": {
        "id": "F6x85AtmRQKL"
      },
      "execution_count": 13,
      "outputs": []
    },
    {
      "cell_type": "markdown",
      "source": [
        "# fungsi preprocessing"
      ],
      "metadata": {
        "id": "vMKa7ZUNRRmf"
      }
    },
    {
      "cell_type": "code",
      "source": [
        "# Function to clean and preprocess URL data\n",
        "def preprocess_url(url):\n",
        "    url = url.lower()  # Convert to lowercase\n",
        "    url = re.sub(r'https?://', '', url)  # Remove http or https\n",
        "    url = re.sub(r'www\\.', '', url)  # Remove www\n",
        "    url = re.sub(r'[^a-zA-Z0-9]', ' ', url)  # Remove special characters\n",
        "    url = re.sub(r'\\s+', ' ', url).strip()  # Remove extra spaces\n",
        "    tokens = word_tokenize(url)  # Tokenize\n",
        "    tokens = [word for word in tokens if word not in STOPWORDS]  # Remove stopwords\n",
        "    tokens = [lemmatizer.lemmatize(word) for word in tokens]  # Lemmatization\n",
        "    return ' '.join(tokens)"
      ],
      "metadata": {
        "id": "6AmZ1c6_RTe3"
      },
      "execution_count": 14,
      "outputs": []
    },
    {
      "cell_type": "code",
      "source": [
        "# Function to clean and preprocess HTML data\n",
        "def preprocess_html(html):\n",
        "    html = re.sub(r'<[^>]+>', ' ', html)  # Remove HTML tags\n",
        "    html = html.lower()  # Convert to lowercase\n",
        "    html = re.sub(r'https?://', '', html)  # Remove http or https\n",
        "    html = re.sub(r'[^a-zA-Z0-9]', ' ', html)  # Remove special characters\n",
        "    html = re.sub(r'\\s+', ' ', html).strip()  # Remove extra spaces\n",
        "    tokens = word_tokenize(html)  # Tokenize\n",
        "    tokens = [word for word in tokens if word not in STOPWORDS]  # Remove stopwords\n",
        "    tokens = [lemmatizer.lemmatize(word) for word in tokens]  # Lemmatization\n",
        "    return ' '.join(tokens)"
      ],
      "metadata": {
        "id": "PPmGDoTaRVzy"
      },
      "execution_count": 15,
      "outputs": []
    },
    {
      "cell_type": "code",
      "source": [
        "# Clean URL 'Data' Columns\n",
        "url_df['cleaned_data'] = url_df['Data'].apply(preprocess_url)\n",
        "url_df['cleaned_data'].head()"
      ],
      "metadata": {
        "colab": {
          "base_uri": "https://localhost:8080/"
        },
        "id": "y0eqpvN0RZ0P",
        "outputId": "1a3ee9b9-56ca-4237-e9a0-169b70e44c73"
      },
      "execution_count": 16,
      "outputs": [
        {
          "output_type": "execute_result",
          "data": {
            "text/plain": [
              "0    logtelstra2021 ddnsking com 0dfa1b53b835500696...\n",
              "1    dvsber ru module mod ariimageslidersa krenk3n4...\n",
              "2    kimsinc564 000webhostapp com notification php ...\n",
              "3                                           benjim com\n",
              "4                                micesrunescape com ru\n",
              "Name: cleaned_data, dtype: object"
            ]
          },
          "metadata": {},
          "execution_count": 16
        }
      ]
    },
    {
      "cell_type": "code",
      "source": [
        "# Clean HTML 'Data' Columns\n",
        "html_df['cleaned_data'] = html_df['Data'].apply(preprocess_html)\n",
        "html_df['cleaned_data'].head()"
      ],
      "metadata": {
        "colab": {
          "base_uri": "https://localhost:8080/"
        },
        "id": "mDpRM0peRjEj",
        "outputId": "be96ab43-be8a-4004-f67e-72da1811465e"
      },
      "execution_count": 17,
      "outputs": [
        {
          "output_type": "execute_result",
          "data": {
            "text/plain": [
              "0    send money pay online set merchant account pay...\n",
              "1    window wiz global data dpimgf false ep1ykd acc...\n",
              "2    url error talktalk co uk main participantid nm...\n",
              "3                                                     \n",
              "4    sign microsoft online service ie legacy displa...\n",
              "Name: cleaned_data, dtype: object"
            ]
          },
          "metadata": {},
          "execution_count": 17
        }
      ]
    },
    {
      "cell_type": "markdown",
      "source": [
        "# Modeling\n",
        "## tokenizaning"
      ],
      "metadata": {
        "id": "1VeLDBf2Rlj4"
      }
    },
    {
      "cell_type": "code",
      "source": [
        "# Define the maximum length of sequences\n",
        "max_url_length = 180\n",
        "max_html_length = 2000\n",
        "\n",
        "# Define the maximum number of words/tokens\n",
        "max_words = 10000"
      ],
      "metadata": {
        "id": "MK5r4Hf0Rm4g"
      },
      "execution_count": 18,
      "outputs": []
    },
    {
      "cell_type": "code",
      "source": [
        "# URL Tokenization and Padding\n",
        "url_tokenizer = Tokenizer(num_words=max_words)\n",
        "url_tokenizer.fit_on_texts(url_df['cleaned_data'])\n",
        "url_sequences = url_tokenizer.texts_to_sequences(url_df['cleaned_data'])\n",
        "url_padded = pad_sequences(url_sequences, maxlen=max_url_length,\n",
        "                           padding='post', truncating='post')\n",
        "\n",
        "# HTML Tokenization and Padding\n",
        "html_tokenizer = Tokenizer(num_words=max_words)\n",
        "html_tokenizer.fit_on_texts(html_df['cleaned_data'])\n",
        "html_sequences = html_tokenizer.texts_to_sequences(html_df['cleaned_data'])\n",
        "html_padded = pad_sequences(html_sequences, maxlen=max_html_length,\n",
        "                            padding='post', truncating='post')"
      ],
      "metadata": {
        "id": "PdsdEHC9S-AI"
      },
      "execution_count": 19,
      "outputs": []
    },
    {
      "cell_type": "markdown",
      "source": [
        "# label encoder"
      ],
      "metadata": {
        "id": "bQClVdBdTtos"
      }
    },
    {
      "cell_type": "code",
      "source": [
        "# Encode 'Category' column\n",
        "label_encoder = LabelEncoder()\n",
        "url_df['Category_Encoded'] = label_encoder.fit_transform(url_df['Category'])\n",
        "html_df['Category_Encoded'] = label_encoder.transform(html_df['Category'])  # Ensure HTML uses the same encoding"
      ],
      "metadata": {
        "id": "RKenqoVNUPWA"
      },
      "execution_count": 22,
      "outputs": []
    },
    {
      "cell_type": "markdown",
      "source": [
        "# split dataset"
      ],
      "metadata": {
        "id": "0HJwNdr5UUiA"
      }
    },
    {
      "cell_type": "code",
      "source": [
        "# Split datasets into training and testing sets\n",
        "url_X_train, url_X_test, url_y_train, url_y_test = train_test_split(url_padded, url_df['Category_Encoded'], test_size=0.2, random_state=42)\n",
        "html_X_train, html_X_test, html_y_train, html_y_test = train_test_split(html_padded, html_df['Category_Encoded'], test_size=0.2, random_state=42)"
      ],
      "metadata": {
        "id": "fppDlDFvUVQo"
      },
      "execution_count": 23,
      "outputs": []
    },
    {
      "cell_type": "markdown",
      "source": [
        "# model arsitektur"
      ],
      "metadata": {
        "id": "L8c38meSUbZ2"
      }
    },
    {
      "cell_type": "code",
      "source": [
        "def create_model():\n",
        "    # Adjusted hyperparameters\n",
        "    embedding_dim = 32 # Increased embedding dimension\n",
        "    conv_filters = 128  # Increased number of filters in convolutional layers\n",
        "    kernel_size = 10 # Increased kernel size\n",
        "    dense_units_1 = 128\n",
        "    dense_units_2 = 64\n",
        "    learning_rate = 0.0001  # Adjusted learning rate\n",
        "\n",
        "    # Model architecture\n",
        "    url_input = layers.Input(shape=(max_url_length,), name='url_input')\n",
        "    url_embedding = layers.Embedding(input_dim=min(max_words, len(url_tokenizer.word_index) + 1),\n",
        "                                     output_dim=embedding_dim, input_length=max_url_length, name='url_embedding')(url_input)\n",
        "    url_conv = layers.Conv1D(filters=conv_filters, kernel_size=kernel_size, activation='relu')(url_embedding)\n",
        "    url_pool = layers.MaxPooling1D(pool_size=2)(url_conv)\n",
        "    url_flat = layers.Flatten()(url_pool)\n",
        "\n",
        "    html_input = layers.Input(shape=(max_html_length,), name='html_input')\n",
        "    html_embedding = layers.Embedding(input_dim=min(max_words, len(html_tokenizer.word_index) + 1),\n",
        "                                      output_dim=embedding_dim, input_length=max_html_length, name='html_embedding')(html_input)\n",
        "    html_conv = layers.Conv1D(filters=conv_filters, kernel_size=kernel_size, activation='relu')(html_embedding)\n",
        "    html_pool = layers.MaxPooling1D(pool_size=2)(html_conv)\n",
        "    html_flat = layers.Flatten()(html_pool)\n",
        "\n",
        "    concatenated = layers.Concatenate(name='concatenate_layer')([url_flat, html_flat])\n",
        "    dense1 = layers.Dense(dense_units_1, activation='relu', name='dense1')(concatenated)\n",
        "    dense2 = layers.Dense(dense_units_2, activation='relu', name='dense2')(dense1)\n",
        "    output = layers.Dense(1, activation='sigmoid', name='output_layer')(dense2)\n",
        "\n",
        "    # Model compilation with directly imported metrics\n",
        "    model = models.Model(inputs=[url_input, html_input], outputs=output)\n",
        "    model.compile(optimizer=optimizers.Adam(learning_rate=learning_rate),\n",
        "                  loss='binary_crossentropy',\n",
        "                  metrics=['accuracy', Precision(), Recall()])\n",
        "\n",
        "    return model"
      ],
      "metadata": {
        "id": "uuxwo-4EUcFE"
      },
      "execution_count": 24,
      "outputs": []
    },
    {
      "cell_type": "code",
      "source": [
        "# Create the model\n",
        "model = create_model()\n",
        "# Model Summary\n",
        "model.summary()"
      ],
      "metadata": {
        "colab": {
          "base_uri": "https://localhost:8080/"
        },
        "id": "SVT-VyDCUfKj",
        "outputId": "92751a9f-50fa-425f-db3c-9414bf7eabc3"
      },
      "execution_count": 25,
      "outputs": [
        {
          "output_type": "stream",
          "name": "stdout",
          "text": [
            "Model: \"model\"\n",
            "__________________________________________________________________________________________________\n",
            " Layer (type)                Output Shape                 Param #   Connected to                  \n",
            "==================================================================================================\n",
            " url_input (InputLayer)      [(None, 180)]                0         []                            \n",
            "                                                                                                  \n",
            " html_input (InputLayer)     [(None, 2000)]               0         []                            \n",
            "                                                                                                  \n",
            " url_embedding (Embedding)   (None, 180, 32)              320000    ['url_input[0][0]']           \n",
            "                                                                                                  \n",
            " html_embedding (Embedding)  (None, 2000, 32)             320000    ['html_input[0][0]']          \n",
            "                                                                                                  \n",
            " conv1d (Conv1D)             (None, 171, 128)             41088     ['url_embedding[0][0]']       \n",
            "                                                                                                  \n",
            " conv1d_1 (Conv1D)           (None, 1991, 128)            41088     ['html_embedding[0][0]']      \n",
            "                                                                                                  \n",
            " max_pooling1d (MaxPooling1  (None, 85, 128)              0         ['conv1d[0][0]']              \n",
            " D)                                                                                               \n",
            "                                                                                                  \n",
            " max_pooling1d_1 (MaxPoolin  (None, 995, 128)             0         ['conv1d_1[0][0]']            \n",
            " g1D)                                                                                             \n",
            "                                                                                                  \n",
            " flatten (Flatten)           (None, 10880)                0         ['max_pooling1d[0][0]']       \n",
            "                                                                                                  \n",
            " flatten_1 (Flatten)         (None, 127360)               0         ['max_pooling1d_1[0][0]']     \n",
            "                                                                                                  \n",
            " concatenate_layer (Concate  (None, 138240)               0         ['flatten[0][0]',             \n",
            " nate)                                                               'flatten_1[0][0]']           \n",
            "                                                                                                  \n",
            " dense1 (Dense)              (None, 128)                  1769484   ['concatenate_layer[0][0]']   \n",
            "                                                          8                                       \n",
            "                                                                                                  \n",
            " dense2 (Dense)              (None, 64)                   8256      ['dense1[0][0]']              \n",
            "                                                                                                  \n",
            " output_layer (Dense)        (None, 1)                    65        ['dense2[0][0]']              \n",
            "                                                                                                  \n",
            "==================================================================================================\n",
            "Total params: 18425345 (70.29 MB)\n",
            "Trainable params: 18425345 (70.29 MB)\n",
            "Non-trainable params: 0 (0.00 Byte)\n",
            "__________________________________________________________________________________________________\n"
          ]
        }
      ]
    },
    {
      "cell_type": "markdown",
      "source": [
        "# train model"
      ],
      "metadata": {
        "id": "DjjnTDxDUrml"
      }
    },
    {
      "cell_type": "code",
      "source": [
        "# Model Training\n",
        "history = model.fit(\n",
        "    [url_X_train, html_X_train],  # URL and HTML training data\n",
        "    url_y_train,\n",
        "    validation_data=([url_X_test, html_X_test], url_y_test),  # URL and HTML validation data\n",
        "    epochs=10,  # Number of epochs to train for\n",
        "    batch_size=8,  # Batch size for training\n",
        "    #callbacks=[early_stopping]  # Early stopping callback\n",
        ")"
      ],
      "metadata": {
        "colab": {
          "base_uri": "https://localhost:8080/"
        },
        "id": "OXRUnFXBUSqe",
        "outputId": "7a34fb09-420f-4a3a-b949-96e3d09fd564"
      },
      "execution_count": 26,
      "outputs": [
        {
          "output_type": "stream",
          "name": "stdout",
          "text": [
            "Epoch 1/10\n",
            "4538/4538 [==============================] - 250s 53ms/step - loss: 0.1449 - accuracy: 0.9426 - precision: 0.9440 - recall: 0.9412 - val_loss: 0.0535 - val_accuracy: 0.9796 - val_precision: 0.9762 - val_recall: 0.9829\n",
            "Epoch 2/10\n",
            "4538/4538 [==============================] - 85s 19ms/step - loss: 0.0316 - accuracy: 0.9892 - precision: 0.9895 - recall: 0.9889 - val_loss: 0.0402 - val_accuracy: 0.9846 - val_precision: 0.9864 - val_recall: 0.9825\n",
            "Epoch 3/10\n",
            "4538/4538 [==============================] - 72s 16ms/step - loss: 0.0132 - accuracy: 0.9958 - precision: 0.9960 - recall: 0.9956 - val_loss: 0.0430 - val_accuracy: 0.9855 - val_precision: 0.9826 - val_recall: 0.9883\n",
            "Epoch 4/10\n",
            "4538/4538 [==============================] - 68s 15ms/step - loss: 0.0072 - accuracy: 0.9976 - precision: 0.9974 - recall: 0.9979 - val_loss: 0.0668 - val_accuracy: 0.9856 - val_precision: 0.9895 - val_recall: 0.9814\n",
            "Epoch 5/10\n",
            "4538/4538 [==============================] - 67s 15ms/step - loss: 0.0060 - accuracy: 0.9980 - precision: 0.9979 - recall: 0.9981 - val_loss: 0.0550 - val_accuracy: 0.9855 - val_precision: 0.9841 - val_recall: 0.9867\n",
            "Epoch 6/10\n",
            "4538/4538 [==============================] - 66s 14ms/step - loss: 0.0040 - accuracy: 0.9987 - precision: 0.9987 - recall: 0.9988 - val_loss: 0.0566 - val_accuracy: 0.9851 - val_precision: 0.9800 - val_recall: 0.9902\n",
            "Epoch 7/10\n",
            "4538/4538 [==============================] - 66s 14ms/step - loss: 0.0027 - accuracy: 0.9993 - precision: 0.9991 - recall: 0.9994 - val_loss: 0.0688 - val_accuracy: 0.9863 - val_precision: 0.9822 - val_recall: 0.9905\n",
            "Epoch 8/10\n",
            "4538/4538 [==============================] - 63s 14ms/step - loss: 0.0026 - accuracy: 0.9993 - precision: 0.9991 - recall: 0.9994 - val_loss: 0.0794 - val_accuracy: 0.9860 - val_precision: 0.9888 - val_recall: 0.9829\n",
            "Epoch 9/10\n",
            "4538/4538 [==============================] - 63s 14ms/step - loss: 0.0031 - accuracy: 0.9990 - precision: 0.9989 - recall: 0.9992 - val_loss: 0.0863 - val_accuracy: 0.9837 - val_precision: 0.9791 - val_recall: 0.9883\n",
            "Epoch 10/10\n",
            "4538/4538 [==============================] - 63s 14ms/step - loss: 0.0021 - accuracy: 0.9993 - precision: 0.9992 - recall: 0.9994 - val_loss: 0.0920 - val_accuracy: 0.9845 - val_precision: 0.9800 - val_recall: 0.9889\n"
          ]
        }
      ]
    },
    {
      "cell_type": "markdown",
      "source": [
        "# evaluasi"
      ],
      "metadata": {
        "id": "VuYZgwZOmAoq"
      }
    },
    {
      "cell_type": "code",
      "source": [
        "# Menyimpan riwayat pelatihan ke dalam DataFrame\n",
        "history_df = pd.DataFrame(history.history)\n",
        "history_df"
      ],
      "metadata": {
        "colab": {
          "base_uri": "https://localhost:8080/",
          "height": 359
        },
        "id": "47W374Yel92E",
        "outputId": "d0467a54-ad6c-4260-8ada-b102676c6df2"
      },
      "execution_count": 27,
      "outputs": [
        {
          "output_type": "execute_result",
          "data": {
            "text/plain": [
              "       loss  accuracy  precision    recall  val_loss  val_accuracy  \\\n",
              "0  0.144883  0.942614   0.943991  0.941238  0.053463      0.979614   \n",
              "1  0.031572  0.989173   0.989485  0.988886  0.040232      0.984573   \n",
              "2  0.013168  0.995785   0.995982  0.995598  0.043015      0.985455   \n",
              "3  0.007176  0.997631   0.997360  0.997909  0.066766      0.985565   \n",
              "4  0.006023  0.997989   0.997855  0.998129  0.055034      0.985455   \n",
              "5  0.004040  0.998733   0.998680  0.998790  0.056621      0.985124   \n",
              "6  0.002660  0.999256   0.999120  0.999395  0.068819      0.986336   \n",
              "7  0.002638  0.999256   0.999120  0.999395  0.079368      0.986005   \n",
              "8  0.003118  0.999036   0.998900  0.999175  0.086346      0.983691   \n",
              "9  0.002067  0.999339   0.999230  0.999450  0.092017      0.984463   \n",
              "\n",
              "   val_precision  val_recall  \n",
              "0       0.976222    0.982931  \n",
              "1       0.986423    0.982487  \n",
              "2       0.982588    0.988251  \n",
              "3       0.989495    0.981379  \n",
              "4       0.984081    0.986699  \n",
              "5       0.980035    0.990246  \n",
              "6       0.982194    0.990468  \n",
              "7       0.988849    0.982931  \n",
              "8       0.979135    0.988251  \n",
              "9       0.980009    0.988916  "
            ],
            "text/html": [
              "\n",
              "  <div id=\"df-f0b8b58d-3af1-4ae1-8683-eba7e3106cf9\" class=\"colab-df-container\">\n",
              "    <div>\n",
              "<style scoped>\n",
              "    .dataframe tbody tr th:only-of-type {\n",
              "        vertical-align: middle;\n",
              "    }\n",
              "\n",
              "    .dataframe tbody tr th {\n",
              "        vertical-align: top;\n",
              "    }\n",
              "\n",
              "    .dataframe thead th {\n",
              "        text-align: right;\n",
              "    }\n",
              "</style>\n",
              "<table border=\"1\" class=\"dataframe\">\n",
              "  <thead>\n",
              "    <tr style=\"text-align: right;\">\n",
              "      <th></th>\n",
              "      <th>loss</th>\n",
              "      <th>accuracy</th>\n",
              "      <th>precision</th>\n",
              "      <th>recall</th>\n",
              "      <th>val_loss</th>\n",
              "      <th>val_accuracy</th>\n",
              "      <th>val_precision</th>\n",
              "      <th>val_recall</th>\n",
              "    </tr>\n",
              "  </thead>\n",
              "  <tbody>\n",
              "    <tr>\n",
              "      <th>0</th>\n",
              "      <td>0.144883</td>\n",
              "      <td>0.942614</td>\n",
              "      <td>0.943991</td>\n",
              "      <td>0.941238</td>\n",
              "      <td>0.053463</td>\n",
              "      <td>0.979614</td>\n",
              "      <td>0.976222</td>\n",
              "      <td>0.982931</td>\n",
              "    </tr>\n",
              "    <tr>\n",
              "      <th>1</th>\n",
              "      <td>0.031572</td>\n",
              "      <td>0.989173</td>\n",
              "      <td>0.989485</td>\n",
              "      <td>0.988886</td>\n",
              "      <td>0.040232</td>\n",
              "      <td>0.984573</td>\n",
              "      <td>0.986423</td>\n",
              "      <td>0.982487</td>\n",
              "    </tr>\n",
              "    <tr>\n",
              "      <th>2</th>\n",
              "      <td>0.013168</td>\n",
              "      <td>0.995785</td>\n",
              "      <td>0.995982</td>\n",
              "      <td>0.995598</td>\n",
              "      <td>0.043015</td>\n",
              "      <td>0.985455</td>\n",
              "      <td>0.982588</td>\n",
              "      <td>0.988251</td>\n",
              "    </tr>\n",
              "    <tr>\n",
              "      <th>3</th>\n",
              "      <td>0.007176</td>\n",
              "      <td>0.997631</td>\n",
              "      <td>0.997360</td>\n",
              "      <td>0.997909</td>\n",
              "      <td>0.066766</td>\n",
              "      <td>0.985565</td>\n",
              "      <td>0.989495</td>\n",
              "      <td>0.981379</td>\n",
              "    </tr>\n",
              "    <tr>\n",
              "      <th>4</th>\n",
              "      <td>0.006023</td>\n",
              "      <td>0.997989</td>\n",
              "      <td>0.997855</td>\n",
              "      <td>0.998129</td>\n",
              "      <td>0.055034</td>\n",
              "      <td>0.985455</td>\n",
              "      <td>0.984081</td>\n",
              "      <td>0.986699</td>\n",
              "    </tr>\n",
              "    <tr>\n",
              "      <th>5</th>\n",
              "      <td>0.004040</td>\n",
              "      <td>0.998733</td>\n",
              "      <td>0.998680</td>\n",
              "      <td>0.998790</td>\n",
              "      <td>0.056621</td>\n",
              "      <td>0.985124</td>\n",
              "      <td>0.980035</td>\n",
              "      <td>0.990246</td>\n",
              "    </tr>\n",
              "    <tr>\n",
              "      <th>6</th>\n",
              "      <td>0.002660</td>\n",
              "      <td>0.999256</td>\n",
              "      <td>0.999120</td>\n",
              "      <td>0.999395</td>\n",
              "      <td>0.068819</td>\n",
              "      <td>0.986336</td>\n",
              "      <td>0.982194</td>\n",
              "      <td>0.990468</td>\n",
              "    </tr>\n",
              "    <tr>\n",
              "      <th>7</th>\n",
              "      <td>0.002638</td>\n",
              "      <td>0.999256</td>\n",
              "      <td>0.999120</td>\n",
              "      <td>0.999395</td>\n",
              "      <td>0.079368</td>\n",
              "      <td>0.986005</td>\n",
              "      <td>0.988849</td>\n",
              "      <td>0.982931</td>\n",
              "    </tr>\n",
              "    <tr>\n",
              "      <th>8</th>\n",
              "      <td>0.003118</td>\n",
              "      <td>0.999036</td>\n",
              "      <td>0.998900</td>\n",
              "      <td>0.999175</td>\n",
              "      <td>0.086346</td>\n",
              "      <td>0.983691</td>\n",
              "      <td>0.979135</td>\n",
              "      <td>0.988251</td>\n",
              "    </tr>\n",
              "    <tr>\n",
              "      <th>9</th>\n",
              "      <td>0.002067</td>\n",
              "      <td>0.999339</td>\n",
              "      <td>0.999230</td>\n",
              "      <td>0.999450</td>\n",
              "      <td>0.092017</td>\n",
              "      <td>0.984463</td>\n",
              "      <td>0.980009</td>\n",
              "      <td>0.988916</td>\n",
              "    </tr>\n",
              "  </tbody>\n",
              "</table>\n",
              "</div>\n",
              "    <div class=\"colab-df-buttons\">\n",
              "\n",
              "  <div class=\"colab-df-container\">\n",
              "    <button class=\"colab-df-convert\" onclick=\"convertToInteractive('df-f0b8b58d-3af1-4ae1-8683-eba7e3106cf9')\"\n",
              "            title=\"Convert this dataframe to an interactive table.\"\n",
              "            style=\"display:none;\">\n",
              "\n",
              "  <svg xmlns=\"http://www.w3.org/2000/svg\" height=\"24px\" viewBox=\"0 -960 960 960\">\n",
              "    <path d=\"M120-120v-720h720v720H120Zm60-500h600v-160H180v160Zm220 220h160v-160H400v160Zm0 220h160v-160H400v160ZM180-400h160v-160H180v160Zm440 0h160v-160H620v160ZM180-180h160v-160H180v160Zm440 0h160v-160H620v160Z\"/>\n",
              "  </svg>\n",
              "    </button>\n",
              "\n",
              "  <style>\n",
              "    .colab-df-container {\n",
              "      display:flex;\n",
              "      gap: 12px;\n",
              "    }\n",
              "\n",
              "    .colab-df-convert {\n",
              "      background-color: #E8F0FE;\n",
              "      border: none;\n",
              "      border-radius: 50%;\n",
              "      cursor: pointer;\n",
              "      display: none;\n",
              "      fill: #1967D2;\n",
              "      height: 32px;\n",
              "      padding: 0 0 0 0;\n",
              "      width: 32px;\n",
              "    }\n",
              "\n",
              "    .colab-df-convert:hover {\n",
              "      background-color: #E2EBFA;\n",
              "      box-shadow: 0px 1px 2px rgba(60, 64, 67, 0.3), 0px 1px 3px 1px rgba(60, 64, 67, 0.15);\n",
              "      fill: #174EA6;\n",
              "    }\n",
              "\n",
              "    .colab-df-buttons div {\n",
              "      margin-bottom: 4px;\n",
              "    }\n",
              "\n",
              "    [theme=dark] .colab-df-convert {\n",
              "      background-color: #3B4455;\n",
              "      fill: #D2E3FC;\n",
              "    }\n",
              "\n",
              "    [theme=dark] .colab-df-convert:hover {\n",
              "      background-color: #434B5C;\n",
              "      box-shadow: 0px 1px 3px 1px rgba(0, 0, 0, 0.15);\n",
              "      filter: drop-shadow(0px 1px 2px rgba(0, 0, 0, 0.3));\n",
              "      fill: #FFFFFF;\n",
              "    }\n",
              "  </style>\n",
              "\n",
              "    <script>\n",
              "      const buttonEl =\n",
              "        document.querySelector('#df-f0b8b58d-3af1-4ae1-8683-eba7e3106cf9 button.colab-df-convert');\n",
              "      buttonEl.style.display =\n",
              "        google.colab.kernel.accessAllowed ? 'block' : 'none';\n",
              "\n",
              "      async function convertToInteractive(key) {\n",
              "        const element = document.querySelector('#df-f0b8b58d-3af1-4ae1-8683-eba7e3106cf9');\n",
              "        const dataTable =\n",
              "          await google.colab.kernel.invokeFunction('convertToInteractive',\n",
              "                                                    [key], {});\n",
              "        if (!dataTable) return;\n",
              "\n",
              "        const docLinkHtml = 'Like what you see? Visit the ' +\n",
              "          '<a target=\"_blank\" href=https://colab.research.google.com/notebooks/data_table.ipynb>data table notebook</a>'\n",
              "          + ' to learn more about interactive tables.';\n",
              "        element.innerHTML = '';\n",
              "        dataTable['output_type'] = 'display_data';\n",
              "        await google.colab.output.renderOutput(dataTable, element);\n",
              "        const docLink = document.createElement('div');\n",
              "        docLink.innerHTML = docLinkHtml;\n",
              "        element.appendChild(docLink);\n",
              "      }\n",
              "    </script>\n",
              "  </div>\n",
              "\n",
              "\n",
              "<div id=\"df-f7d5774e-4955-45a5-8a2f-90915f9dc42f\">\n",
              "  <button class=\"colab-df-quickchart\" onclick=\"quickchart('df-f7d5774e-4955-45a5-8a2f-90915f9dc42f')\"\n",
              "            title=\"Suggest charts\"\n",
              "            style=\"display:none;\">\n",
              "\n",
              "<svg xmlns=\"http://www.w3.org/2000/svg\" height=\"24px\"viewBox=\"0 0 24 24\"\n",
              "     width=\"24px\">\n",
              "    <g>\n",
              "        <path d=\"M19 3H5c-1.1 0-2 .9-2 2v14c0 1.1.9 2 2 2h14c1.1 0 2-.9 2-2V5c0-1.1-.9-2-2-2zM9 17H7v-7h2v7zm4 0h-2V7h2v10zm4 0h-2v-4h2v4z\"/>\n",
              "    </g>\n",
              "</svg>\n",
              "  </button>\n",
              "\n",
              "<style>\n",
              "  .colab-df-quickchart {\n",
              "      --bg-color: #E8F0FE;\n",
              "      --fill-color: #1967D2;\n",
              "      --hover-bg-color: #E2EBFA;\n",
              "      --hover-fill-color: #174EA6;\n",
              "      --disabled-fill-color: #AAA;\n",
              "      --disabled-bg-color: #DDD;\n",
              "  }\n",
              "\n",
              "  [theme=dark] .colab-df-quickchart {\n",
              "      --bg-color: #3B4455;\n",
              "      --fill-color: #D2E3FC;\n",
              "      --hover-bg-color: #434B5C;\n",
              "      --hover-fill-color: #FFFFFF;\n",
              "      --disabled-bg-color: #3B4455;\n",
              "      --disabled-fill-color: #666;\n",
              "  }\n",
              "\n",
              "  .colab-df-quickchart {\n",
              "    background-color: var(--bg-color);\n",
              "    border: none;\n",
              "    border-radius: 50%;\n",
              "    cursor: pointer;\n",
              "    display: none;\n",
              "    fill: var(--fill-color);\n",
              "    height: 32px;\n",
              "    padding: 0;\n",
              "    width: 32px;\n",
              "  }\n",
              "\n",
              "  .colab-df-quickchart:hover {\n",
              "    background-color: var(--hover-bg-color);\n",
              "    box-shadow: 0 1px 2px rgba(60, 64, 67, 0.3), 0 1px 3px 1px rgba(60, 64, 67, 0.15);\n",
              "    fill: var(--button-hover-fill-color);\n",
              "  }\n",
              "\n",
              "  .colab-df-quickchart-complete:disabled,\n",
              "  .colab-df-quickchart-complete:disabled:hover {\n",
              "    background-color: var(--disabled-bg-color);\n",
              "    fill: var(--disabled-fill-color);\n",
              "    box-shadow: none;\n",
              "  }\n",
              "\n",
              "  .colab-df-spinner {\n",
              "    border: 2px solid var(--fill-color);\n",
              "    border-color: transparent;\n",
              "    border-bottom-color: var(--fill-color);\n",
              "    animation:\n",
              "      spin 1s steps(1) infinite;\n",
              "  }\n",
              "\n",
              "  @keyframes spin {\n",
              "    0% {\n",
              "      border-color: transparent;\n",
              "      border-bottom-color: var(--fill-color);\n",
              "      border-left-color: var(--fill-color);\n",
              "    }\n",
              "    20% {\n",
              "      border-color: transparent;\n",
              "      border-left-color: var(--fill-color);\n",
              "      border-top-color: var(--fill-color);\n",
              "    }\n",
              "    30% {\n",
              "      border-color: transparent;\n",
              "      border-left-color: var(--fill-color);\n",
              "      border-top-color: var(--fill-color);\n",
              "      border-right-color: var(--fill-color);\n",
              "    }\n",
              "    40% {\n",
              "      border-color: transparent;\n",
              "      border-right-color: var(--fill-color);\n",
              "      border-top-color: var(--fill-color);\n",
              "    }\n",
              "    60% {\n",
              "      border-color: transparent;\n",
              "      border-right-color: var(--fill-color);\n",
              "    }\n",
              "    80% {\n",
              "      border-color: transparent;\n",
              "      border-right-color: var(--fill-color);\n",
              "      border-bottom-color: var(--fill-color);\n",
              "    }\n",
              "    90% {\n",
              "      border-color: transparent;\n",
              "      border-bottom-color: var(--fill-color);\n",
              "    }\n",
              "  }\n",
              "</style>\n",
              "\n",
              "  <script>\n",
              "    async function quickchart(key) {\n",
              "      const quickchartButtonEl =\n",
              "        document.querySelector('#' + key + ' button');\n",
              "      quickchartButtonEl.disabled = true;  // To prevent multiple clicks.\n",
              "      quickchartButtonEl.classList.add('colab-df-spinner');\n",
              "      try {\n",
              "        const charts = await google.colab.kernel.invokeFunction(\n",
              "            'suggestCharts', [key], {});\n",
              "      } catch (error) {\n",
              "        console.error('Error during call to suggestCharts:', error);\n",
              "      }\n",
              "      quickchartButtonEl.classList.remove('colab-df-spinner');\n",
              "      quickchartButtonEl.classList.add('colab-df-quickchart-complete');\n",
              "    }\n",
              "    (() => {\n",
              "      let quickchartButtonEl =\n",
              "        document.querySelector('#df-f7d5774e-4955-45a5-8a2f-90915f9dc42f button');\n",
              "      quickchartButtonEl.style.display =\n",
              "        google.colab.kernel.accessAllowed ? 'block' : 'none';\n",
              "    })();\n",
              "  </script>\n",
              "</div>\n",
              "    </div>\n",
              "  </div>\n"
            ]
          },
          "metadata": {},
          "execution_count": 27
        }
      ]
    },
    {
      "cell_type": "code",
      "source": [
        "# Model Evaluation\n",
        "y_pred_prob = model.predict([url_X_test, html_X_test])\n",
        "y_pred = (y_pred_prob > 0.5).astype(int)"
      ],
      "metadata": {
        "colab": {
          "base_uri": "https://localhost:8080/"
        },
        "id": "qnmkASKfmESQ",
        "outputId": "3754bfc9-232c-414b-d5fb-653caa37aa46"
      },
      "execution_count": 28,
      "outputs": [
        {
          "output_type": "stream",
          "name": "stdout",
          "text": [
            "284/284 [==============================] - 2s 6ms/step\n"
          ]
        }
      ]
    },
    {
      "cell_type": "code",
      "source": [
        "# Confusion Matrix\n",
        "conf_matrix = confusion_matrix(url_y_test, y_pred)\n",
        "plt.figure(figsize=(8, 6))\n",
        "sns.heatmap(conf_matrix, annot=True, fmt=\"d\", cmap=\"Blues\")\n",
        "plt.title(\"Model Confusion Matrix\", fontweight='bold')\n",
        "plt.xlabel(\"Predicted Label\")\n",
        "plt.ylabel(\"True Label\")\n",
        "plt.show()"
      ],
      "metadata": {
        "colab": {
          "base_uri": "https://localhost:8080/",
          "height": 564
        },
        "id": "PhGmYXi9mGiA",
        "outputId": "868112b2-d2b2-4060-8d6f-0981c8c0001a"
      },
      "execution_count": 29,
      "outputs": [
        {
          "output_type": "display_data",
          "data": {
            "text/plain": [
              "<Figure size 800x600 with 2 Axes>"
            ],
            "image/png": "[encoded data removed]"
          },
          "metadata": {}
        }
      ]
    },
    {
      "cell_type": "code",
      "source": [
        "# Extracting values from the history object\n",
        "training_loss = history.history['loss']\n",
        "validation_loss = history.history['val_loss']\n",
        "training_accuracy = history.history['accuracy']\n",
        "validation_accuracy = history.history['val_accuracy']\n",
        "\n",
        "# Epochs range\n",
        "epochs_range = range(1, len(training_loss) + 1)"
      ],
      "metadata": {
        "id": "ye47JyKdmJmF"
      },
      "execution_count": 30,
      "outputs": []
    },
    {
      "cell_type": "code",
      "source": [
        "# Create subplots\n",
        "fig, axs = plt.subplots(2, figsize=(10, 10))\n",
        "\n",
        "# Plotting Training and Validation Loss\n",
        "axs[0].plot(epochs_range, training_loss, label='Training Loss')\n",
        "axs[0].plot(epochs_range, validation_loss, label='Validation Loss')\n",
        "axs[0].set_title('Training and Validation Loss', fontweight='bold')\n",
        "axs[0].set_xlabel('Epochs')\n",
        "axs[0].set_ylabel('Loss')\n",
        "axs[0].legend()\n",
        "\n",
        "# Plotting Training and Validation Accuracy\n",
        "axs[1].plot(epochs_range, training_accuracy, label='Training Accuracy')\n",
        "axs[1].plot(epochs_range, validation_accuracy, label='Validation Accuracy')\n",
        "axs[1].set_title('Training and Validation Accuracy', fontweight='bold')\n",
        "axs[1].set_xlabel('Epochs')\n",
        "axs[1].set_ylabel('Accuracy')\n",
        "axs[1].legend()\n",
        "\n",
        "plt.tight_layout()\n",
        "plt.show()"
      ],
      "metadata": {
        "colab": {
          "base_uri": "https://localhost:8080/",
          "height": 1000
        },
        "id": "BapOey1amMJJ",
        "outputId": "d8d4d2e6-64c7-491d-ce23-a656e3492a8d"
      },
      "execution_count": 31,
      "outputs": [
        {
          "output_type": "display_data",
          "data": {
            "text/plain": [
              "<Figure size 1000x1000 with 2 Axes>"
            ],
            "image/png": "[encoded data removed]"
          },
          "metadata": {}
        }
      ]
    },
    {
      "cell_type": "markdown",
      "source": [
        "# Save Model"
      ],
      "metadata": {
        "id": "mQCqqGhuyb5p"
      }
    },
    {
      "cell_type": "code",
      "source": [
        "# Define file path\n",
        "model.save('/content/drive/MyDrive/phishing_detection_model.keras')"
      ],
      "metadata": {
        "id": "2E35EdZlyeE1"
      },
      "execution_count": 46,
      "outputs": []
    },
    {
      "cell_type": "markdown",
      "source": [
        "# Test Model"
      ],
      "metadata": {
        "id": "V6aRG2tFmRpx"
      }
    },
    {
      "cell_type": "code",
      "source": [
        "# Defining new benchmark data\n",
        "new_urls = [\n",
        "    \"http://www.horadiadacompras.com/simples-login/entrar&amp;hnuhgjb\",\n",
        "    \"https://portalnews.com/account/\",\n",
        "    \"http://facebook-prize.com/offer/\",\n",
        "    \"https://thediasuniversity.edu/our-achievements/\",\n",
        "    \"http://paypal-secure-account.blogspot.com/\"\n",
        "]\n",
        "\n",
        "new_htmls = [\n",
        "    \"<html><head><title>Free Offer</title></head><body>Click here to claim your free phone</body></html>\",\n",
        "    \"<!DOCTYPE html><html><head><title>News Update</title></head><body>Welcome to our news portal</body></html>\",\n",
        "    \"<html><head><script>var a=1; stealCredentials();</script></head><body>Login to see content</body></html>\",\n",
        "    \"<!DOCTYPE html><html lang=en><head><title>University of Thedias</title></head><body>Our Achievements</body></html>\",\n",
        "    \"<html><head><title>Your Account Has Been Suspended</title></head><body>Please log in to verify your account</body></html>\"\n",
        "]\n",
        "\n",
        "actual_categories = [\"spam\", \"ham\", \"spam\", \"ham\", \"spam\"]  # Assuming the categories for the new benchmark data\n",
        "\n",
        "# Preprocessing the new benchmark data\n",
        "cleaned_urls = [preprocess_url(url) for url in new_urls]\n",
        "cleaned_htmls = [preprocess_html(html) for html in new_htmls]\n",
        "\n",
        "# Tokenizing and padding\n",
        "new_url_sequences = url_tokenizer.texts_to_sequences(cleaned_urls)\n",
        "new_url_padded = pad_sequences(new_url_sequences, maxlen=max_url_length, padding='post', truncating='post')\n",
        "\n",
        "new_html_sequences = html_tokenizer.texts_to_sequences(cleaned_htmls)\n",
        "new_html_padded = pad_sequences(new_html_sequences, maxlen=max_html_length, padding='post', truncating='post')\n",
        "\n",
        "# Making predictions with the model\n",
        "new_predictions_prob = model.predict([new_url_padded, new_html_padded])\n",
        "new_predictions = (new_predictions_prob > 0.5).astype(int)  # Using 0.5 as the threshold for binary classification\n",
        "\n",
        "# Displaying actual categories, predicted probabilities, and predicted categories\n",
        "for i, (url, html) in enumerate(zip(new_urls, new_htmls)):\n",
        "    actual_category = \"Spam\" if actual_categories[i] == \"spam\" else \"Legitimate\"\n",
        "    predicted_category = \"Spam\" if new_predictions[i][0] == 1 else \"Legitimate\"\n",
        "    print(f\"URL: {url}\")\n",
        "    print(f\"HTML Content: {html[:100]}...\")  # Displaying a snippet for brevity\n",
        "    print(f\"Actual Category: {actual_category}\")\n",
        "    print(f\"Predicted Probability: {new_predictions_prob[i][0]:.4f}\")\n",
        "    print(f\"Predicted Category: {predicted_category}\\n\")"
      ],
      "metadata": {
        "colab": {
          "base_uri": "https://localhost:8080/"
        },
        "id": "LjxEkgEQmPPR",
        "outputId": "e76e009d-9fb6-400d-9fca-d6ccfd92a215"
      },
      "execution_count": 47,
      "outputs": [
        {
          "output_type": "stream",
          "name": "stdout",
          "text": [
            "1/1 [==============================] - 0s 174ms/step\n",
            "URL: http://www.horadiadacompras.com/simples-login/entrar&amp;hnuhgjb\n",
            "HTML Content: <html><head><title>Free Offer</title></head><body>Click here to claim your free phone</body></html>...\n",
            "Actual Category: Spam\n",
            "Predicted Probability: 1.0000\n",
            "Predicted Category: Spam\n",
            "\n",
            "URL: https://portalnews.com/account/\n",
            "HTML Content: <!DOCTYPE html><html><head><title>News Update</title></head><body>Welcome to our news portal</body><...\n",
            "Actual Category: Legitimate\n",
            "Predicted Probability: 0.9997\n",
            "Predicted Category: Spam\n",
            "\n",
            "URL: http://facebook-prize.com/offer/\n",
            "HTML Content: <html><head><script>var a=1; stealCredentials();</script></head><body>Login to see content</body></h...\n",
            "Actual Category: Spam\n",
            "Predicted Probability: 1.0000\n",
            "Predicted Category: Spam\n",
            "\n",
            "URL: https://thediasuniversity.edu/our-achievements/\n",
            "HTML Content: <!DOCTYPE html><html lang=en><head><title>University of Thedias</title></head><body>Our Achievements...\n",
            "Actual Category: Legitimate\n",
            "Predicted Probability: 0.0188\n",
            "Predicted Category: Legitimate\n",
            "\n",
            "URL: http://paypal-secure-account.blogspot.com/\n",
            "HTML Content: <html><head><title>Your Account Has Been Suspended</title></head><body>Please log in to verify your ...\n",
            "Actual Category: Spam\n",
            "Predicted Probability: 1.0000\n",
            "Predicted Category: Spam\n",
            "\n"
          ]
        }
      ]
    },
    {
      "cell_type": "code",
      "source": [
        "# Define new benchmark data\n",
        "new_urls = [\n",
        "\"http://www.horadiadacompras.com/simples-login/entrar&hnuhgjb\",\n",
        "\"https://portalnews.com/account/\",\n",
        "\"http://facebook-prize.com/offer/\",\n",
        "\"https://thediasuniversity.edu/our-achievements/\",\n",
        "\"http://paypal-secure-account.blogspot.com/\",\n",
        "\"http://secure-login-paypal.com/\",\n",
        "\"http://amazon-prime-offers.com/\",\n",
        "\"https://secure-bankofamerica.com/login/\",\n",
        "\"http://netflix-secure-login.com/\",\n",
        "\"https://wellsfargo-secure.com/\",\n",
        "\"https://stanford.edu/research/\",\n",
        "\"http://gmail-security.com/\",\n",
        "\"http://www.airbnb-login.com/\",\n",
        "\"https://harvard.edu/admissions/\",\n",
        "\"https://linkedin-security.com/\",\n",
        "\"http://ebay-security.com/\",\n",
        "\"https://paypal-security.com/\",\n",
        "\"https://bankofamerica-secure.com/\",\n",
        "\"http://www.microsoft-security.com/\",\n",
        "\"https://apple-secure.com/\"\n",
        "]\n",
        "\n",
        "new_htmls = [\n",
        "\"<html><head><title>Free Offer</title></head><body>Click here to claim your free phone</body></html>\",\n",
        "\"<!DOCTYPE html><html><head><title>News Update</title></head><body>Welcome to our news portal</body></html>\",\n",
        "\"<html><head><script>var a=1; stealCredentials();</script></head><body>Login to see content</body></html>\",\n",
        "\"<!DOCTYPE html><html lang=en><head><title>University of Thedias</title></head><body>Our Achievements</body></html>\",\n",
        "\"<html><head><title>Your Account Has Been Suspended</title></head><body>Please log in to verify your account</body></html>\",\n",
        "\"<html><head><title>Secure Login</title></head><body>Please enter your PayPal credentials</body></html>\",\n",
        "\"<html><head><title>Amazon Prime Offers</title></head><body>Click here to claim your Amazon Prime offers</body></html>\",\n",
        "\"<html><head><title>Secure Login</title></head><body>Enter your Bank of America login details</body></html>\",\n",
        "\"<html><head><title>Netflix Login</title></head><body>Please enter your Netflix credentials</body></html>\",\n",
        "\"<html><head><title>Secure Login</title></head><body>Enter your Wells Fargo login details</body></html>\",\n",
        "\"<!DOCTYPE html><html lang=en><head><title>Stanford Research</title></head><body>Information about our research</body></html>\",\n",
        "\"<html><head><title>Gmail Security</title></head><body>Please enter your Gmail credentials</body></html>\",\n",
        "\"<html><head><title>Airbnb Login</title></head><body>Please enter your Airbnb credentials</body></html>\",\n",
        "\"<!DOCTYPE html><html lang=en><head><title>Harvard Admissions</title></head><body>Information about admissions</body></html>\",\n",
        "\"<html><head><title>LinkedIn Security</title></head><body>Please enter your LinkedIn credentials</body></html>\",\n",
        "\"<html><head><title>eBay Security</title></head><body>Please enter your eBay credentials</body></html>\",\n",
        "\"<html><head><title>PayPal Security</title></head><body>Please enter your PayPal credentials</body></html>\",\n",
        "\"<html><head><title>Bank of America Security</title></head><body>Please enter your Bank of America credentials</body></html>\",\n",
        "\"<html><head><title>Microsoft Security</title></head><body>Please enter your Microsoft credentials</body></html>\",\n",
        "\"<html><head><title>Apple Security</title></head><body>Please enter your Apple credentials</body></html>\"\n",
        "]\n",
        "\n",
        "actual_categories = [\"spam\", \"ham\", \"spam\", \"ham\", \"spam\", \"spam\", \"spam\", \"spam\", \"spam\", \"spam\", \"ham\", \"spam\", \"spam\", \"ham\", \"spam\", \"spam\", \"spam\", \"spam\", \"spam\", \"spam\"]\n",
        "\n",
        "# Preprocess the new benchmark data\n",
        "cleaned_urls = [preprocess_url(url) for url in new_urls]\n",
        "cleaned_htmls = [preprocess_html(html) for html in new_htmls]\n",
        "\n",
        "# Tokenize and pad\n",
        "new_url_sequences = url_tokenizer.texts_to_sequences(cleaned_urls)\n",
        "new_url_padded = pad_sequences(new_url_sequences, maxlen=max_url_length, padding='post', truncating='post')\n",
        "\n",
        "new_html_sequences = html_tokenizer.texts_to_sequences(cleaned_htmls)\n",
        "new_html_padded = pad_sequences(new_html_sequences, maxlen=max_html_length, padding='post', truncating='post')\n",
        "\n",
        "# Make predictions with the model\n",
        "new_predictions_prob = model.predict([new_url_padded, new_html_padded])\n",
        "new_predictions = (new_predictions_prob > 0.5).astype(int)\n",
        "\n",
        "# Define the table\n",
        "table = PrettyTable()\n",
        "table.field_names = [\"URL\", \"HTML Snippet\", \"Actual\", \"Predicted Probability\", \"Predicted Category\"]\n",
        "\n",
        "# Populate the table\n",
        "for i, (url, html) in enumerate(zip(new_urls, new_htmls)):\n",
        "    html_snippet = html[:100] + \"...\"  # Displaying a snippet for brevity\n",
        "    actual_category = \"Spam\" if actual_categories[i] == \"spam\" else \"Legitimate\"\n",
        "    predicted_category = \"Spam\" if new_predictions[i][0] == 1 else \"Legitimate\"\n",
        "    table.add_row([url, html_snippet, actual_category, f\"{new_predictions_prob[i][0]:.4f}\", predicted_category])\n",
        "\n",
        "# Print the table\n",
        "print(table)"
      ],
      "metadata": {
        "colab": {
          "base_uri": "https://localhost:8080/"
        },
        "id": "KSUzmV6Smy9z",
        "outputId": "6432257f-8a40-4d40-f444-35177536b367"
      },
      "execution_count": 48,
      "outputs": [
        {
          "output_type": "stream",
          "name": "stdout",
          "text": [
            "1/1 [==============================] - 0s 21ms/step\n",
            "+--------------------------------------------------------------+---------------------------------------------------------------------------------------------------------+------------+-----------------------+--------------------+\n",
            "|                             URL                              |                                               HTML Snippet                                              |   Actual   | Predicted Probability | Predicted Category |\n",
            "+--------------------------------------------------------------+---------------------------------------------------------------------------------------------------------+------------+-----------------------+--------------------+\n",
            "| http://www.horadiadacompras.com/simples-login/entrar&hnuhgjb |  <html><head><title>Free Offer</title></head><body>Click here to claim your free phone</body></html>... |    Spam    |         1.0000        |        Spam        |\n",
            "|               https://portalnews.com/account/                | <!DOCTYPE html><html><head><title>News Update</title></head><body>Welcome to our news portal</body><... | Legitimate |         0.9997        |        Spam        |\n",
            "|               http://facebook-prize.com/offer/               | <html><head><script>var a=1; stealCredentials();</script></head><body>Login to see content</body></h... |    Spam    |         1.0000        |        Spam        |\n",
            "|       https://thediasuniversity.edu/our-achievements/        | <!DOCTYPE html><html lang=en><head><title>University of Thedias</title></head><body>Our Achievements... | Legitimate |         0.0188        |     Legitimate     |\n",
            "|          http://paypal-secure-account.blogspot.com/          | <html><head><title>Your Account Has Been Suspended</title></head><body>Please log in to verify your ... |    Spam    |         1.0000        |        Spam        |\n",
            "|               http://secure-login-paypal.com/                | <html><head><title>Secure Login</title></head><body>Please enter your PayPal credentials</body></htm... |    Spam    |         1.0000        |        Spam        |\n",
            "|               http://amazon-prime-offers.com/                | <html><head><title>Amazon Prime Offers</title></head><body>Click here to claim your Amazon Prime off... |    Spam    |         1.0000        |        Spam        |\n",
            "|           https://secure-bankofamerica.com/login/            | <html><head><title>Secure Login</title></head><body>Enter your Bank of America login details</body><... |    Spam    |         1.0000        |        Spam        |\n",
            "|               http://netflix-secure-login.com/               | <html><head><title>Netflix Login</title></head><body>Please enter your Netflix credentials</body></h... |    Spam    |         1.0000        |        Spam        |\n",
            "|                https://wellsfargo-secure.com/                | <html><head><title>Secure Login</title></head><body>Enter your Wells Fargo login details</body></htm... |    Spam    |         1.0000        |        Spam        |\n",
            "|                https://stanford.edu/research/                | <!DOCTYPE html><html lang=en><head><title>Stanford Research</title></head><body>Information about ou... | Legitimate |         0.0000        |     Legitimate     |\n",
            "|                  http://gmail-security.com/                  | <html><head><title>Gmail Security</title></head><body>Please enter your Gmail credentials</body></ht... |    Spam    |         0.9999        |        Spam        |\n",
            "|                 http://www.airbnb-login.com/                 | <html><head><title>Airbnb Login</title></head><body>Please enter your Airbnb credentials</body></htm... |    Spam    |         1.0000        |        Spam        |\n",
            "|               https://harvard.edu/admissions/                | <!DOCTYPE html><html lang=en><head><title>Harvard Admissions</title></head><body>Information about a... | Legitimate |         0.0145        |     Legitimate     |\n",
            "|                https://linkedin-security.com/                | <html><head><title>LinkedIn Security</title></head><body>Please enter your LinkedIn credentials</bod... |    Spam    |         0.9992        |        Spam        |\n",
            "|                  http://ebay-security.com/                   | <html><head><title>eBay Security</title></head><body>Please enter your eBay credentials</body></html... |    Spam    |         1.0000        |        Spam        |\n",
            "|                 https://paypal-security.com/                 | <html><head><title>PayPal Security</title></head><body>Please enter your PayPal credentials</body></... |    Spam    |         1.0000        |        Spam        |\n",
            "|              https://bankofamerica-secure.com/               | <html><head><title>Bank of America Security</title></head><body>Please enter your Bank of America cr... |    Spam    |         1.0000        |        Spam        |\n",
            "|              http://www.microsoft-security.com/              | <html><head><title>Microsoft Security</title></head><body>Please enter your Microsoft credentials</b... |    Spam    |         0.9958        |        Spam        |\n",
            "|                  https://apple-secure.com/                   | <html><head><title>Apple Security</title></head><body>Please enter your Apple credentials</body></ht... |    Spam    |         1.0000        |        Spam        |\n",
            "+--------------------------------------------------------------+---------------------------------------------------------------------------------------------------------+------------+-----------------------+--------------------+\n"
          ]
        }
      ]
    },
    {
      "cell_type": "markdown",
      "source": [
        "# Load The Saved Model and Try It"
      ],
      "metadata": {
        "id": "pay4-1fDy8L5"
      }
    },
    {
      "cell_type": "code",
      "source": [
        "# Load trained model\n",
        "model = keras.models.load_model('/content/drive/MyDrive/phishing_detection_model.keras')"
      ],
      "metadata": {
        "id": "DzTexRTny3nt"
      },
      "execution_count": 49,
      "outputs": []
    },
    {
      "cell_type": "code",
      "source": [
        "# Define new benchmark data\n",
        "new_urls = [\n",
        "\"http://www.horadiadacompras.com/simples-login/entrar&hnuhgjb\",\n",
        "\"https://portalnews.com/account/\",\n",
        "\"http://facebook-prize.com/offer/\",\n",
        "\"https://thediasuniversity.edu/our-achievements/\",\n",
        "\"http://paypal-secure-account.blogspot.com/\",\n",
        "\"http://secure-login-paypal.com/\",\n",
        "\"http://amazon-prime-offers.com/\",\n",
        "\"https://secure-bankofamerica.com/login/\",\n",
        "\"http://netflix-secure-login.com/\",\n",
        "\"https://wellsfargo-secure.com/\",\n",
        "\"https://stanford.edu/research/\",\n",
        "\"http://gmail-security.com/\",\n",
        "\"http://www.airbnb-login.com/\",\n",
        "\"https://harvard.edu/admissions/\",\n",
        "\"https://linkedin-security.com/\",\n",
        "\"http://ebay-security.com/\",\n",
        "\"https://paypal-security.com/\",\n",
        "\"https://bankofamerica-secure.com/\",\n",
        "\"http://www.microsoft-security.com/\",\n",
        "\"https://apple-secure.com/\"\n",
        "]\n",
        "\n",
        "new_htmls = [\n",
        "\"<html><head><title>Free Offer</title></head><body>Click here to claim your free phone</body></html>\",\n",
        "\"<!DOCTYPE html><html><head><title>News Update</title></head><body>Welcome to our news portal</body></html>\",\n",
        "\"<html><head><script>var a=1; stealCredentials();</script></head><body>Login to see content</body></html>\",\n",
        "\"<!DOCTYPE html><html lang=en><head><title>University of Thedias</title></head><body>Our Achievements</body></html>\",\n",
        "\"<html><head><title>Your Account Has Been Suspended</title></head><body>Please log in to verify your account</body></html>\",\n",
        "\"<html><head><title>Secure Login</title></head><body>Please enter your PayPal credentials</body></html>\",\n",
        "\"<html><head><title>Amazon Prime Offers</title></head><body>Click here to claim your Amazon Prime offers</body></html>\",\n",
        "\"<html><head><title>Secure Login</title></head><body>Enter your Bank of America login details</body></html>\",\n",
        "\"<html><head><title>Netflix Login</title></head><body>Please enter your Netflix credentials</body></html>\",\n",
        "\"<html><head><title>Secure Login</title></head><body>Enter your Wells Fargo login details</body></html>\",\n",
        "\"<!DOCTYPE html><html lang=en><head><title>Stanford Research</title></head><body>Information about our research</body></html>\",\n",
        "\"<html><head><title>Gmail Security</title></head><body>Please enter your Gmail credentials</body></html>\",\n",
        "\"<html><head><title>Airbnb Login</title></head><body>Please enter your Airbnb credentials</body></html>\",\n",
        "\"<!DOCTYPE html><html lang=en><head><title>Harvard Admissions</title></head><body>Information about admissions</body></html>\",\n",
        "\"<html><head><title>LinkedIn Security</title></head><body>Please enter your LinkedIn credentials</body></html>\",\n",
        "\"<html><head><title>eBay Security</title></head><body>Please enter your eBay credentials</body></html>\",\n",
        "\"<html><head><title>PayPal Security</title></head><body>Please enter your PayPal credentials</body></html>\",\n",
        "\"<html><head><title>Bank of America Security</title></head><body>Please enter your Bank of America credentials</body></html>\",\n",
        "\"<html><head><title>Microsoft Security</title></head><body>Please enter your Microsoft credentials</body></html>\",\n",
        "\"<html><head><title>Apple Security</title></head><body>Please enter your Apple credentials</body></html>\"\n",
        "]\n",
        "\n",
        "actual_categories = [\"spam\", \"ham\", \"spam\", \"ham\", \"spam\", \"spam\", \"spam\", \"spam\", \"spam\", \"spam\", \"ham\", \"spam\", \"spam\", \"ham\", \"spam\", \"spam\", \"spam\", \"spam\", \"spam\", \"spam\"]\n",
        "\n",
        "# Preprocess the new benchmark data\n",
        "cleaned_urls = [preprocess_url(url) for url in new_urls]\n",
        "cleaned_htmls = [preprocess_html(html) for html in new_htmls]\n",
        "\n",
        "# Tokenize and pad\n",
        "new_url_sequences = url_tokenizer.texts_to_sequences(cleaned_urls)\n",
        "new_url_padded = pad_sequences(new_url_sequences, maxlen=max_url_length, padding='post', truncating='post')\n",
        "\n",
        "new_html_sequences = html_tokenizer.texts_to_sequences(cleaned_htmls)\n",
        "new_html_padded = pad_sequences(new_html_sequences, maxlen=max_html_length, padding='post', truncating='post')\n",
        "\n",
        "# Make predictions with the model\n",
        "new_predictions_prob = model.predict([new_url_padded, new_html_padded])\n",
        "new_predictions = (new_predictions_prob > 0.5).astype(int)\n",
        "\n",
        "# Define the table\n",
        "table = PrettyTable()\n",
        "table.field_names = [\"URL\", \"HTML Snippet\", \"Actual\", \"Predicted Probability\", \"Predicted Category\"]\n",
        "\n",
        "# Populate the table\n",
        "for i, (url, html) in enumerate(zip(new_urls, new_htmls)):\n",
        "    html_snippet = html[:100] + \"...\"  # Displaying a snippet for brevity\n",
        "    actual_category = \"Spam\" if actual_categories[i] == \"spam\" else \"Legitimate\"\n",
        "    predicted_category = \"Spam\" if new_predictions[i][0] == 1 else \"Legitimate\"\n",
        "    table.add_row([url, html_snippet, actual_category, f\"{new_predictions_prob[i][0]:.4f}\", predicted_category])\n",
        "\n",
        "# Print the table\n",
        "print(table)"
      ],
      "metadata": {
        "colab": {
          "base_uri": "https://localhost:8080/"
        },
        "id": "N4uI1YfUzAlX",
        "outputId": "66571482-7fe2-4804-e98e-6fe1fede8713"
      },
      "execution_count": 50,
      "outputs": [
        {
          "output_type": "stream",
          "name": "stdout",
          "text": [
            "1/1 [==============================] - 0s 175ms/step\n",
            "+--------------------------------------------------------------+---------------------------------------------------------------------------------------------------------+------------+-----------------------+--------------------+\n",
            "|                             URL                              |                                               HTML Snippet                                              |   Actual   | Predicted Probability | Predicted Category |\n",
            "+--------------------------------------------------------------+---------------------------------------------------------------------------------------------------------+------------+-----------------------+--------------------+\n",
            "| http://www.horadiadacompras.com/simples-login/entrar&hnuhgjb |  <html><head><title>Free Offer</title></head><body>Click here to claim your free phone</body></html>... |    Spam    |         1.0000        |        Spam        |\n",
            "|               https://portalnews.com/account/                | <!DOCTYPE html><html><head><title>News Update</title></head><body>Welcome to our news portal</body><... | Legitimate |         0.9997        |        Spam        |\n",
            "|               http://facebook-prize.com/offer/               | <html><head><script>var a=1; stealCredentials();</script></head><body>Login to see content</body></h... |    Spam    |         1.0000        |        Spam        |\n",
            "|       https://thediasuniversity.edu/our-achievements/        | <!DOCTYPE html><html lang=en><head><title>University of Thedias</title></head><body>Our Achievements... | Legitimate |         0.0188        |     Legitimate     |\n",
            "|          http://paypal-secure-account.blogspot.com/          | <html><head><title>Your Account Has Been Suspended</title></head><body>Please log in to verify your ... |    Spam    |         1.0000        |        Spam        |\n",
            "|               http://secure-login-paypal.com/                | <html><head><title>Secure Login</title></head><body>Please enter your PayPal credentials</body></htm... |    Spam    |         1.0000        |        Spam        |\n",
            "|               http://amazon-prime-offers.com/                | <html><head><title>Amazon Prime Offers</title></head><body>Click here to claim your Amazon Prime off... |    Spam    |         1.0000        |        Spam        |\n",
            "|           https://secure-bankofamerica.com/login/            | <html><head><title>Secure Login</title></head><body>Enter your Bank of America login details</body><... |    Spam    |         1.0000        |        Spam        |\n",
            "|               http://netflix-secure-login.com/               | <html><head><title>Netflix Login</title></head><body>Please enter your Netflix credentials</body></h... |    Spam    |         1.0000        |        Spam        |\n",
            "|                https://wellsfargo-secure.com/                | <html><head><title>Secure Login</title></head><body>Enter your Wells Fargo login details</body></htm... |    Spam    |         1.0000        |        Spam        |\n",
            "|                https://stanford.edu/research/                | <!DOCTYPE html><html lang=en><head><title>Stanford Research</title></head><body>Information about ou... | Legitimate |         0.0000        |     Legitimate     |\n",
            "|                  http://gmail-security.com/                  | <html><head><title>Gmail Security</title></head><body>Please enter your Gmail credentials</body></ht... |    Spam    |         0.9999        |        Spam        |\n",
            "|                 http://www.airbnb-login.com/                 | <html><head><title>Airbnb Login</title></head><body>Please enter your Airbnb credentials</body></htm... |    Spam    |         1.0000        |        Spam        |\n",
            "|               https://harvard.edu/admissions/                | <!DOCTYPE html><html lang=en><head><title>Harvard Admissions</title></head><body>Information about a... | Legitimate |         0.0145        |     Legitimate     |\n",
            "|                https://linkedin-security.com/                | <html><head><title>LinkedIn Security</title></head><body>Please enter your LinkedIn credentials</bod... |    Spam    |         0.9992        |        Spam        |\n",
            "|                  http://ebay-security.com/                   | <html><head><title>eBay Security</title></head><body>Please enter your eBay credentials</body></html... |    Spam    |         1.0000        |        Spam        |\n",
            "|                 https://paypal-security.com/                 | <html><head><title>PayPal Security</title></head><body>Please enter your PayPal credentials</body></... |    Spam    |         1.0000        |        Spam        |\n",
            "|              https://bankofamerica-secure.com/               | <html><head><title>Bank of America Security</title></head><body>Please enter your Bank of America cr... |    Spam    |         1.0000        |        Spam        |\n",
            "|              http://www.microsoft-security.com/              | <html><head><title>Microsoft Security</title></head><body>Please enter your Microsoft credentials</b... |    Spam    |         0.9958        |        Spam        |\n",
            "|                  https://apple-secure.com/                   | <html><head><title>Apple Security</title></head><body>Please enter your Apple credentials</body></ht... |    Spam    |         1.0000        |        Spam        |\n",
            "+--------------------------------------------------------------+---------------------------------------------------------------------------------------------------------+------------+-----------------------+--------------------+\n"
          ]
        }
      ]
    },
    {
      "cell_type": "markdown",
      "source": [
        "# BELOW ARE EXPERIMENTS\n",
        "## Experiment Model"
      ],
      "metadata": {
        "id": "KzSD-eZazIem"
      }
    },
    {
      "cell_type": "code",
      "source": [
        "def experiment_model():\n",
        "    embedding_dim = 128  # Embedding dimension for both URL and HTML\n",
        "\n",
        "    # URL Embedding Path\n",
        "    url_input = layers.Input(shape=(max_url_length,), name='url_input')\n",
        "    url_embedding = layers.Embedding(input_dim=min(max_words, len(url_tokenizer.word_index) + 1),\n",
        "                                     output_dim=embedding_dim, input_length=max_url_length, name='url_embedding')(url_input)\n",
        "    url_conv = layers.Conv1D(filters=64, kernel_size=8, activation='relu')(url_embedding)\n",
        "    url_pool = layers.MaxPooling1D(pool_size=2)(url_conv)\n",
        "    url_flat = layers.Flatten()(url_pool)\n",
        "\n",
        "    # HTML Embedding Path\n",
        "    html_input = layers.Input(shape=(max_html_length,), name='html_input')\n",
        "    html_embedding = layers.Embedding(input_dim=min(max_words, len(html_tokenizer.word_index) + 1),\n",
        "                                      output_dim=embedding_dim, input_length=max_html_length, name='html_embedding')(html_input)\n",
        "    html_conv = layers.Conv1D(filters=64, kernel_size=8, activation='relu')(html_embedding)\n",
        "    html_pool = layers.MaxPooling1D(pool_size=2)(html_conv)\n",
        "    html_flat = layers.Flatten()(html_pool)\n",
        "\n",
        "    # Concatenate Flat Outputs\n",
        "    concatenated = layers.Concatenate(name='concatenate_layer')([url_flat, html_flat])\n",
        "\n",
        "    # Fully Connected Layers\n",
        "    dense1 = layers.Dense(128, activation='relu', name='dense1')(concatenated)\n",
        "    dense2 = layers.Dense(64, activation='relu', name='dense2')(dense1)\n",
        "\n",
        "    # Output Layer\n",
        "    output = layers.Dense(1, activation='sigmoid', name='output_layer')(dense2)\n",
        "\n",
        "    # Define the model using 'experiment_model' as the variable\n",
        "    experiment_model = models.Model(inputs=[url_input, html_input], outputs=output)\n",
        "\n",
        "    # Use 'experiment_model' for compilation\n",
        "    experiment_model.compile(optimizer=optimizers.Adam(learning_rate=0.0005),\n",
        "                             loss='binary_crossentropy',\n",
        "                             metrics=['accuracy', Precision(), Recall()])\n",
        "\n",
        "    return experiment_model"
      ],
      "metadata": {
        "id": "zfPXsaNGzKB2"
      },
      "execution_count": 51,
      "outputs": []
    },
    {
      "cell_type": "code",
      "source": [
        "# Create the adjusted model\n",
        "experiment_model_instance = experiment_model()"
      ],
      "metadata": {
        "id": "uX4xhvGnzPWc"
      },
      "execution_count": 52,
      "outputs": []
    },
    {
      "cell_type": "code",
      "source": [
        "# Model Summary\n",
        "experiment_model_instance.summary()"
      ],
      "metadata": {
        "colab": {
          "base_uri": "https://localhost:8080/"
        },
        "id": "uBKG-d_1zPq9",
        "outputId": "94d0430c-b33c-4cd2-ec0c-9157a36f71ea"
      },
      "execution_count": 53,
      "outputs": [
        {
          "output_type": "stream",
          "name": "stdout",
          "text": [
            "Model: \"model_1\"\n",
            "__________________________________________________________________________________________________\n",
            " Layer (type)                Output Shape                 Param #   Connected to                  \n",
            "==================================================================================================\n",
            " url_input (InputLayer)      [(None, 180)]                0         []                            \n",
            "                                                                                                  \n",
            " html_input (InputLayer)     [(None, 2000)]               0         []                            \n",
            "                                                                                                  \n",
            " url_embedding (Embedding)   (None, 180, 128)             1280000   ['url_input[0][0]']           \n",
            "                                                                                                  \n",
            " html_embedding (Embedding)  (None, 2000, 128)            1280000   ['html_input[0][0]']          \n",
            "                                                                                                  \n",
            " conv1d_2 (Conv1D)           (None, 173, 64)              65600     ['url_embedding[0][0]']       \n",
            "                                                                                                  \n",
            " conv1d_3 (Conv1D)           (None, 1993, 64)             65600     ['html_embedding[0][0]']      \n",
            "                                                                                                  \n",
            " max_pooling1d_2 (MaxPoolin  (None, 86, 64)               0         ['conv1d_2[0][0]']            \n",
            " g1D)                                                                                             \n",
            "                                                                                                  \n",
            " max_pooling1d_3 (MaxPoolin  (None, 996, 64)              0         ['conv1d_3[0][0]']            \n",
            " g1D)                                                                                             \n",
            "                                                                                                  \n",
            " flatten_2 (Flatten)         (None, 5504)                 0         ['max_pooling1d_2[0][0]']     \n",
            "                                                                                                  \n",
            " flatten_3 (Flatten)         (None, 63744)                0         ['max_pooling1d_3[0][0]']     \n",
            "                                                                                                  \n",
            " concatenate_layer (Concate  (None, 69248)                0         ['flatten_2[0][0]',           \n",
            " nate)                                                               'flatten_3[0][0]']           \n",
            "                                                                                                  \n",
            " dense1 (Dense)              (None, 128)                  8863872   ['concatenate_layer[0][0]']   \n",
            "                                                                                                  \n",
            " dense2 (Dense)              (None, 64)                   8256      ['dense1[0][0]']              \n",
            "                                                                                                  \n",
            " output_layer (Dense)        (None, 1)                    65        ['dense2[0][0]']              \n",
            "                                                                                                  \n",
            "==================================================================================================\n",
            "Total params: 11563393 (44.11 MB)\n",
            "Trainable params: 11563393 (44.11 MB)\n",
            "Non-trainable params: 0 (0.00 Byte)\n",
            "__________________________________________________________________________________________________\n"
          ]
        }
      ]
    },
    {
      "cell_type": "markdown",
      "source": [
        "# Experiment Model Training"
      ],
      "metadata": {
        "id": "wW_b6HmkzVR6"
      }
    },
    {
      "cell_type": "code",
      "source": [
        "# Early stopping to prevent overfitting\n",
        "early_stopping = EarlyStopping(monitor='val_loss', patience=3, restore_best_weights=True)"
      ],
      "metadata": {
        "id": "RLrd10KEzSue"
      },
      "execution_count": 54,
      "outputs": []
    },
    {
      "cell_type": "code",
      "source": [
        "# Model Training\n",
        "history = experiment_model_instance.fit(\n",
        "    [url_X_train, html_X_train],  # URL and HTML training data\n",
        "    url_y_train,  # Assuming the same target variable for both URL and HTML\n",
        "    validation_data=([url_X_test, html_X_test], url_y_test),  # URL and HTML validation data\n",
        "    epochs=20,  # Number of epochs to train for\n",
        "    batch_size=16,  # Batch size for training\n",
        "    callbacks=[early_stopping]  # Early stopping callback\n",
        ")"
      ],
      "metadata": {
        "colab": {
          "base_uri": "https://localhost:8080/"
        },
        "id": "hJ2O0OSzzYTv",
        "outputId": "1ed4888a-4d14-4e37-afdb-429aa71c39c4"
      },
      "execution_count": 55,
      "outputs": [
        {
          "output_type": "stream",
          "name": "stdout",
          "text": [
            "Epoch 1/20\n",
            "2269/2269 [==============================] - 210s 91ms/step - loss: 0.0937 - accuracy: 0.9647 - precision_1: 0.9661 - recall_1: 0.9634 - val_loss: 0.0377 - val_accuracy: 0.9867 - val_precision_1: 0.9880 - val_recall_1: 0.9851\n",
            "Epoch 2/20\n",
            "2269/2269 [==============================] - 54s 24ms/step - loss: 0.0188 - accuracy: 0.9939 - precision_1: 0.9948 - recall_1: 0.9931 - val_loss: 0.0519 - val_accuracy: 0.9841 - val_precision_1: 0.9910 - val_recall_1: 0.9769\n",
            "Epoch 3/20\n",
            "2269/2269 [==============================] - 43s 19ms/step - loss: 0.0088 - accuracy: 0.9968 - precision_1: 0.9970 - recall_1: 0.9965 - val_loss: 0.0670 - val_accuracy: 0.9851 - val_precision_1: 0.9906 - val_recall_1: 0.9794\n",
            "Epoch 4/20\n",
            "2269/2269 [==============================] - 40s 17ms/step - loss: 0.0074 - accuracy: 0.9978 - precision_1: 0.9979 - recall_1: 0.9977 - val_loss: 0.0620 - val_accuracy: 0.9848 - val_precision_1: 0.9815 - val_recall_1: 0.9880\n"
          ]
        }
      ]
    },
    {
      "cell_type": "markdown",
      "source": [
        "# Experiment Model Evaluation"
      ],
      "metadata": {
        "id": "neaglUkwzdsN"
      }
    },
    {
      "cell_type": "code",
      "source": [
        "# Model Evaluation\n",
        "y_pred_prob = experiment_model_instance.predict([url_X_test, html_X_test])\n",
        "y_pred = (y_pred_prob > 0.5).astype(int)"
      ],
      "metadata": {
        "colab": {
          "base_uri": "https://localhost:8080/"
        },
        "id": "TogXaT1ozeVV",
        "outputId": "536a3fa5-c3c5-4130-895e-20c15f14006f"
      },
      "execution_count": 56,
      "outputs": [
        {
          "output_type": "stream",
          "name": "stdout",
          "text": [
            "284/284 [==============================] - 2s 6ms/step\n"
          ]
        }
      ]
    },
    {
      "cell_type": "markdown",
      "source": [
        "# Calculating Model Performance Based on Metrics"
      ],
      "metadata": {
        "id": "SFkvv4VT0hEE"
      }
    },
    {
      "cell_type": "code",
      "source": [
        "# Calculating metrics\n",
        "accuracy = accuracy_score(url_y_test, y_pred)\n",
        "precision = precision_score(url_y_test, y_pred)\n",
        "recall = recall_score(url_y_test, y_pred)\n",
        "f1 = f1_score(url_y_test, y_pred)"
      ],
      "metadata": {
        "id": "uTT8TScY0jb5"
      },
      "execution_count": 57,
      "outputs": []
    },
    {
      "cell_type": "markdown",
      "source": [
        "# Print Evaluation Metrics"
      ],
      "metadata": {
        "id": "lgfo3-HI0lEU"
      }
    },
    {
      "cell_type": "code",
      "source": [
        "# Printing evaluation metrics\n",
        "print(f\"Accuracy: {accuracy:.4f}\")\n",
        "print(f\"Precision: {precision:.4f}\")\n",
        "print(f\"Recall: {recall:.4f}\")\n",
        "print(f\"F1 Score: {f1:.4f}\")"
      ],
      "metadata": {
        "colab": {
          "base_uri": "https://localhost:8080/"
        },
        "id": "Oo04ebzF0nFv",
        "outputId": "7f473ad5-adcd-431b-fca8-e6c1a514dbb1"
      },
      "execution_count": 58,
      "outputs": [
        {
          "output_type": "stream",
          "name": "stdout",
          "text": [
            "Accuracy: 0.9867\n",
            "Precision: 0.9880\n",
            "Recall: 0.9851\n",
            "F1 Score: 0.9866\n"
          ]
        }
      ]
    }
  ]
}